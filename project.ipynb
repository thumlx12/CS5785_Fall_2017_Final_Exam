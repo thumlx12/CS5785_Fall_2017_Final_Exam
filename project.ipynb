{
 "cells": [
  {
   "cell_type": "code",
   "execution_count": 2,
   "metadata": {
    "collapsed": true
   },
   "outputs": [],
   "source": [
    "import numpy as np\n",
    "import pandas as pd"
   ]
  },
  {
   "cell_type": "code",
   "execution_count": 3,
   "metadata": {
    "collapsed": true
   },
   "outputs": [],
   "source": [
    "test_f = pd.read_csv(\"data/features_test/features_resnet1000_test.csv\", header=None)\n",
    "test_f_med = pd.read_csv(\"data/features_test/features_resnet1000intermediate_test.csv\", header=None)\n",
    "train_f = pd.read_csv(\"data/features_train/features_resnet1000_train.csv\", header=None)\n",
    "train_f_med = pd.read_csv(\"data/features_train/features_resnet1000intermediate_train.csv\", header=None)"
   ]
  },
  {
   "cell_type": "code",
   "execution_count": 47,
   "metadata": {},
   "outputs": [
    {
     "name": "stdout",
     "output_type": "stream",
     "text": [
      "(2000, 2049)\n",
      "(2000, 1001)\n"
     ]
    }
   ],
   "source": [
    "print (test_f_med.shape)\n",
    "print (test_f.shape)"
   ]
  },
  {
   "cell_type": "code",
   "execution_count": 4,
   "metadata": {
    "collapsed": true
   },
   "outputs": [],
   "source": [
    "test_features = test_f.as_matrix()"
   ]
  },
  {
   "cell_type": "code",
   "execution_count": 46,
   "metadata": {},
   "outputs": [
    {
     "name": "stdout",
     "output_type": "stream",
     "text": [
      "2000\n",
      "images_test/152.jpg\n",
      "images_test/1164.jpg\n"
     ]
    }
   ],
   "source": [
    "print (len(test_features[:,0]))\n",
    "print (test_features[0, 0])\n",
    "print (test_features[-1, 0])"
   ]
  },
  {
   "cell_type": "code",
   "execution_count": 7,
   "metadata": {},
   "outputs": [
    {
     "name": "stdout",
     "output_type": "stream",
     "text": [
      "27.827245712280273\n",
      "-8.767455101013184\n"
     ]
    }
   ],
   "source": [
    "print (np.max(test_features[:,1:1000]))\n",
    "print (np.min(test_features[:,1:1000]))"
   ]
  },
  {
   "cell_type": "code",
   "execution_count": 79,
   "metadata": {
    "collapsed": true
   },
   "outputs": [],
   "source": [
    "diction = dict()\n",
    "mywords = dict()\n",
    "count = 0"
   ]
  },
  {
   "cell_type": "code",
   "execution_count": 80,
   "metadata": {},
   "outputs": [],
   "source": [
    "for i in range(2000):\n",
    "    fname = \"data/tags_test/\"+str(i)+\".txt\"\n",
    "    with open(fname, \"r\") as ins:\n",
    "        for line in ins:\n",
    "            array = line.split(\":\")\n",
    "            key = array[0]\n",
    "            value = array[1].strip('\\n')\n",
    "            if key not in diction:\n",
    "                diction[key] = set()\n",
    "            diction[key].add(value)\n",
    "            if value not in mywords:\n",
    "                mywords[value] = count\n",
    "                count = count + 1"
   ]
  },
  {
   "cell_type": "code",
   "execution_count": 56,
   "metadata": {},
   "outputs": [
    {
     "name": "stdout",
     "output_type": "stream",
     "text": [
      "furniture {'dining table', 'potted plant', 'couch', 'chair', 'toilet', 'bed'}\n",
      "accessory {'backpack', 'tie', 'handbag', 'suitcase', 'umbrella'}\n",
      "animal {'sheep', 'bird', 'horse', 'bear', 'elephant', 'zebra', 'dog', 'giraffe', 'cat', 'cow'}\n",
      "sports {'skis', 'tennis racket', 'snowboard', 'skateboard', 'surfboard', 'baseball bat', 'kite', 'sports ball', 'frisbee', 'baseball glove'}\n",
      "person {'person'}\n",
      "vehicle {'airplane', 'car', 'bicycle', 'boat', 'bus', 'train', 'motorcycle', 'truck'}\n",
      "outdoor {'parking meter', 'bench', 'fire hydrant', 'stop sign', 'traffic light'}\n",
      "kitchen {'spoon', 'bowl', 'cup', 'bottle', 'knife', 'fork', 'wine glass'}\n",
      "food {'hot dog', 'pizza', 'apple', 'orange', 'donut', 'cake', 'carrot', 'banana', 'broccoli', 'sandwich'}\n",
      "indoor {'clock', 'hair drier', 'teddy bear', 'scissors', 'toothbrush', 'book', 'vase'}\n",
      "electronic {'cell phone', 'mouse', 'keyboard', 'tv', 'laptop', 'remote'}\n",
      "appliance {'toaster', 'microwave', 'refrigerator', 'oven', 'sink'}\n",
      "There are categories in total of 12\n",
      "{'orange', 'spoon', 'fork', 'sandwich', 'tie', 'car', 'parking meter', 'scissors', 'giraffe', 'bottle', 'frisbee', 'dining table', 'keyboard', 'snowboard', 'skateboard', 'oven', 'sink', 'sports ball', 'bear', 'pizza', 'toaster', 'donut', 'cake', 'tv', 'person', 'traffic light', 'toilet', 'tennis racket', 'bird', 'refrigerator', 'knife', 'banana', 'boat', 'remote', 'vase', 'cat', 'backpack', 'airplane', 'couch', 'elephant', 'teddy bear', 'suitcase', 'bowl', 'kite', 'umbrella', 'apple', 'hair drier', 'bench', 'bus', 'motorcycle', 'broccoli', 'cow', 'hot dog', 'clock', 'book', 'train', 'baseball glove', 'microwave', 'zebra', 'fire hydrant', 'carrot', 'laptop', 'stop sign', 'sheep', 'bed', 'truck', 'cell phone', 'mouse', 'handbag', 'horse', 'surfboard', 'cup', 'chair', 'wine glass', 'bicycle', 'skis', 'potted plant', 'dog', 'baseball bat', 'toothbrush'}\n",
      "There are objects in total of 80\n"
     ]
    }
   ],
   "source": [
    "objects = set()\n",
    "for key in diction:\n",
    "    objects = objects | diction[key]\n",
    "    print(key, diction[key])\n",
    "print(\"There are categories in total of \" + str(len(diction)))\n",
    "print(objects)\n",
    "objects = list(objects)\n",
    "print (\"There are objects in total of \" + str(len(objects)))"
   ]
  },
  {
   "cell_type": "code",
   "execution_count": 81,
   "metadata": {},
   "outputs": [
    {
     "name": "stdout",
     "output_type": "stream",
     "text": [
      "bed 0\n",
      "backpack 1\n",
      "suitcase 2\n",
      "tie 3\n",
      "cow 4\n",
      "frisbee 5\n",
      "person 6\n",
      "car 7\n",
      "traffic light 8\n",
      "truck 9\n",
      "cat 10\n",
      "bowl 11\n",
      "broccoli 12\n",
      "cup 13\n",
      "fork 14\n",
      "pizza 15\n",
      "donut 16\n",
      "potted plant 17\n",
      "bench 18\n",
      "dining table 19\n",
      "book 20\n",
      "giraffe 21\n",
      "laptop 22\n",
      "mouse 23\n",
      "keyboard 24\n",
      "cell phone 25\n",
      "hot dog 26\n",
      "banana 27\n",
      "sandwich 28\n",
      "stop sign 29\n",
      "snowboard 30\n",
      "bus 31\n",
      "skateboard 32\n",
      "handbag 33\n",
      "chair 34\n",
      "carrot 35\n",
      "kite 36\n",
      "tv 37\n",
      "vase 38\n",
      "baseball bat 39\n",
      "dog 40\n",
      "boat 41\n",
      "skis 42\n",
      "refrigerator 43\n",
      "umbrella 44\n",
      "bottle 45\n",
      "toothbrush 46\n",
      "toilet 47\n",
      "sink 48\n",
      "couch 49\n",
      "spoon 50\n",
      "microwave 51\n",
      "toaster 52\n",
      "airplane 53\n",
      "remote 54\n",
      "bird 55\n",
      "apple 56\n",
      "motorcycle 57\n",
      "elephant 58\n",
      "clock 59\n",
      "tennis racket 60\n",
      "horse 61\n",
      "orange 62\n",
      "sports ball 63\n",
      "surfboard 64\n",
      "baseball glove 65\n",
      "knife 66\n",
      "bicycle 67\n",
      "oven 68\n",
      "zebra 69\n",
      "wine glass 70\n",
      "fire hydrant 71\n",
      "teddy bear 72\n",
      "sheep 73\n",
      "scissors 74\n",
      "cake 75\n",
      "train 76\n",
      "parking meter 77\n",
      "bear 78\n",
      "hair drier 79\n"
     ]
    }
   ],
   "source": [
    "for key in mywords:\n",
    "    print(key, mywords[key])"
   ]
  },
  {
   "cell_type": "code",
   "execution_count": 108,
   "metadata": {},
   "outputs": [],
   "source": [
    "def desp2vec(desp, mywords, size):\n",
    "    res = np.zeros(size)\n",
    "    for word in desp.split():\n",
    "        if word in mywords:\n",
    "            res[mywords[word]] += 1\n",
    "    return res"
   ]
  },
  {
   "cell_type": "code",
   "execution_count": 110,
   "metadata": {},
   "outputs": [
    {
     "data": {
      "text/plain": [
       "array([ 0.,  0.,  0.,  0.,  0.,  0.,  0.,  2.,  0.,  0.,  0.,  0.,  0.,\n",
       "        0.,  0.,  0.,  0.,  0.,  0.,  0.,  0.,  0.,  0.,  0.,  0.,  0.,\n",
       "        0.,  0.,  0.,  0.,  0.,  0.,  0.,  0.,  0.,  0.,  1.,  1.,  1.,\n",
       "        0.,  0.,  0.,  0.,  0.,  0.,  0.,  0.,  0.,  0.,  0.,  0.,  0.,\n",
       "        0.,  0.,  0.,  0.,  0.,  0.,  0.,  0.,  0.,  0.,  0.,  0.,  0.,\n",
       "        0.,  0.,  0.,  0.,  0.,  0.,  0.,  0.,  0.,  0.,  0.,  0.,  0.,\n",
       "        0.,  0.])"
      ]
     },
     "execution_count": 110,
     "metadata": {},
     "output_type": "execute_result"
    }
   ],
   "source": [
    "desp2vec(\"kite is tv and vase plus car car\", mywords, 80)"
   ]
  },
  {
   "cell_type": "code",
   "execution_count": 106,
   "metadata": {},
   "outputs": [],
   "source": [
    "test_desp = []\n",
    "for i in range(2000):\n",
    "    fname = \"data/descriptions_test/\"+str(i)+\".txt\"\n",
    "    with open(fname, \"r\") as ins:\n",
    "        text = []\n",
    "        for line in ins:\n",
    "            text.append(line)\n",
    "        test_desp.append(text)"
   ]
  },
  {
   "cell_type": "code",
   "execution_count": 107,
   "metadata": {},
   "outputs": [
    {
     "name": "stdout",
     "output_type": "stream",
     "text": [
      "2000\n",
      "[['A no left turn sign hanging from the side of a wooden pole.\\n', 'a sign on the road and many vehicles in a park\\n', 'A picture of a street on a busy city street.\\n', 'A green traffic light sits near a parking lot and a white building.\\n', 'A right turn sign turned upside down on a pole.\\n'], ['a person riding a skate board ata skate park\\n', 'Bright light showcasing a skateboarder flipping up off the ramp.\\n', 'A man riding up the side of a dry pool on a skateboard.\\n', 'a boy performing a skateboard trick in a skate bowl at night\\n', 'A person that is doing a skateboarding trick in the air.'], ['A white compact car parked on a sandy dirt road.\\n', 'A car being driven onto two white flat things\\n', 'A man getting in a sport utility vehicle with surf boards on the roof.\\n', 'Man standing in open door of car on a desert road. \\n', 'A man gets back into his car in the desert.\\n'], ['Two people pose for a picture while holding up their skis.\\n', 'Two skiers in the middle of a snowstorm.\\n', 'Two people with skis stand next to each other.\\n', 'Two people in the snow, holding and wearing skis.\\n', 'Two skiers pose side by side for a picture\\n'], ['A skier stands posing while two others are skiing towards him.\\n', 'a group of people riding skis on a snowy surface\\n', 'A group of people standing on a ski slope with trees in the background.\\n', 'Three men walking along snow with their skis on.\\n', 'Three people are standing in the snow wearing snow skis.\\n'], ['A pizza sitting on top of a wooden cutting board.\\n', 'The pizza is loaded with melted cheese and vegetables such as green peppers.\\n', 'A pizza with bell peppers, meat, and sauce.\\n', 'A vegetable pizza that has been sliced into pieces.\\n', 'a pizza and a pizza cutter and some green pepper toppings\\n'], ['A man holding up a yellow frisbee while smiling.\\n', 'A man holding a frisbee in the field close to some buildings\\n', 'a male in a tan shirt and a frisbee\\n', 'A man is holding a frisbee that reads \"queer\\' on it.\\n', 'a close up of a person holding a frisbee in a field\\n'], ['A man is holding a couple of traffic lights on the side of the road.\\n', 'A man carrying two traffic lights on the side of a street.\\n', 'a man in a tan jacket is carrying a traffic light\\n', 'a man holding some street lights as he stands next to the road \\n', 'A man holding the streetlights in his hands near a street\\n'], ['A couple riding on top of an elephant in a forest.\\n', 'People under a canopy riding an elephant through a forest.\\n', 'A group of people riding an elephant through a forest.\\n', 'An elephant with people riding on its back.\\n', 'people riding an elephant down a shady trail\\n'], ['A surfer in the ocean preparing to stand on a surfboard.\\n', 'A man riding a wave on a surfboard in the ocean.\\n', 'A man attempts to stand on a surfboard. \\n', 'A man is riding in a tiny wave.\\n', 'The man is on a surfboard coming in to the shore.\\n']]\n"
     ]
    }
   ],
   "source": [
    "print (len(test_desp))\n",
    "print (test_desp[10:20])"
   ]
  },
  {
   "cell_type": "code",
   "execution_count": 113,
   "metadata": {
    "collapsed": true
   },
   "outputs": [],
   "source": [
    "size = 80\n",
    "N = 2000\n",
    "K = 5\n",
    "vecMatrix = np.zeros((N, size))\n",
    "for i in range(N):\n",
    "    for line in test_desp[i]:\n",
    "        vecMatrix[i, :] += desp2vec(line, mywords, size)"
   ]
  },
  {
   "cell_type": "code",
   "execution_count": 117,
   "metadata": {},
   "outputs": [
    {
     "name": "stdout",
     "output_type": "stream",
     "text": [
      "2000\n",
      "[0, 3, 4, 9, 10, 17, 22, 24, 27, 31, 33, 36, 38, 40, 42, 47, 48, 54, 59, 60, 66, 67, 68, 75, 84, 87, 88, 89, 96, 98, 100, 102, 103, 108, 112, 116, 118, 119, 120, 121, 127, 130, 136, 137, 140, 143, 146, 147, 155, 157, 161, 162, 164, 167, 170, 172, 173, 176, 186, 191, 194, 195, 200, 205, 208, 209, 212, 215, 216, 218, 221, 222, 223, 224, 229, 234, 237, 240, 241, 246, 248, 253, 256, 258, 259, 260, 263, 266, 269, 282, 283, 287, 290, 291, 292, 297, 302, 312, 314, 319, 321, 325, 327, 328, 330, 331, 335, 339, 348, 355, 356, 364, 367, 368, 372, 373, 380, 383, 392, 396, 398, 401, 407, 412, 417, 419, 422, 423, 426, 428, 434, 438, 439, 440, 459, 460, 467, 468, 472, 476, 483, 491, 502, 509, 512, 516, 522, 525, 529, 534, 539, 548, 551, 559, 560, 561, 563, 568, 569, 572, 575, 582, 586, 591, 595, 596, 605, 606, 608, 609, 611, 614, 616, 623, 624, 625, 632, 634, 637, 639, 641, 645, 646, 655, 657, 662, 664, 666, 668, 676, 679, 683, 685, 692, 695, 698, 701, 704, 727, 731, 736, 737, 744, 751, 758, 762, 776, 777, 783, 784, 788, 789, 795, 803, 805, 808, 817, 818, 819, 820, 821, 822, 831, 834, 835, 836, 843, 844, 845, 846, 853, 856, 859, 861, 865, 866, 874, 875, 879, 883, 884, 885, 886, 887, 890, 896, 899, 900, 906, 907, 908, 909, 910, 914, 915, 919, 921, 923, 925, 927, 932, 933, 937, 938, 943, 949, 951, 958, 966, 967, 971, 972, 975, 981, 982, 996, 998, 1000, 1006, 1009, 1024, 1025, 1026, 1029, 1030, 1034, 1036, 1038, 1051, 1052, 1054, 1060, 1063, 1069, 1074, 1075, 1076, 1083, 1085, 1089, 1101, 1102, 1104, 1105, 1106, 1107, 1109, 1110, 1118, 1120, 1121, 1124, 1126, 1127, 1133, 1134, 1140, 1142, 1144, 1145, 1146, 1152, 1157, 1161, 1168, 1175, 1177, 1178, 1179, 1183, 1185, 1189, 1192, 1193, 1197, 1199, 1200, 1203, 1205, 1206, 1213, 1215, 1222, 1226, 1230, 1231, 1233, 1238, 1239, 1240, 1243, 1248, 1250, 1254, 1271, 1275, 1282, 1284, 1289, 1290, 1292, 1316, 1318, 1321, 1326, 1328, 1329, 1330, 1331, 1338, 1353, 1356, 1362, 1363, 1372, 1374, 1383, 1387, 1388, 1389, 1390, 1391, 1398, 1401, 1402, 1409, 1413, 1414, 1416, 1417, 1426, 1427, 1430, 1432, 1433, 1434, 1437, 1439, 1447, 1448, 1449, 1453, 1458, 1466, 1471, 1472, 1476, 1480, 1481, 1483, 1485, 1486, 1487, 1490, 1493, 1500, 1520, 1524, 1525, 1528, 1532, 1533, 1534, 1536, 1537, 1544, 1552, 1553, 1557, 1563, 1566, 1567, 1571, 1575, 1577, 1588, 1593, 1606, 1610, 1611, 1614, 1615, 1616, 1624, 1625, 1626, 1631, 1633, 1634, 1636, 1637, 1639, 1644, 1648, 1660, 1664, 1668, 1671, 1674, 1677, 1678, 1688, 1694, 1700, 1704, 1705, 1707, 1709, 1713, 1715, 1717, 1719, 1725, 1728, 1733, 1735, 1737, 1743, 1748, 1751, 1753, 1758, 1764, 1768, 1772, 1774, 1776, 1778, 1779, 1780, 1781, 1787, 1793, 1804, 1805, 1808, 1824, 1826, 1830, 1831, 1833, 1836, 1837, 1839, 1840, 1842, 1844, 1848, 1849, 1856, 1857, 1868, 1871, 1873, 1874, 1881, 1894, 1901, 1913, 1918, 1921, 1928, 1930, 1932, 1936, 1951, 1953, 1959, 1960, 1963, 1964, 1971, 1972, 1975, 1976, 1982, 1988, 1990, 1995, 1998]\n",
      "540\n"
     ]
    }
   ],
   "source": [
    "# sparse?\n",
    "tmp = np.sum(vecMatrix, axis = 1)\n",
    "print (len(tmp))\n",
    "zeros = []\n",
    "for i in range(2000):\n",
    "    if tmp[i] == 0:\n",
    "        zeros.append(i)\n",
    "print (zeros)\n",
    "print (len(zeros))"
   ]
  },
  {
   "cell_type": "code",
   "execution_count": 118,
   "metadata": {
    "collapsed": true
   },
   "outputs": [],
   "source": [
    "size = 80\n",
    "N = 2000\n",
    "comMatrix = np.zeros((N, size))\n",
    "for i in range(N):\n",
    "    fname = \"data/tags_test/\"+str(i)+\".txt\"\n",
    "    with open(fname, \"r\") as ins:\n",
    "        for line in ins:\n",
    "            array = line.split(\":\")\n",
    "            value = array[1].strip('\\n')\n",
    "            if value in mywords:\n",
    "                comMatrix[i][mywords[value]] = 1"
   ]
  },
  {
   "cell_type": "code",
   "execution_count": 121,
   "metadata": {},
   "outputs": [
    {
     "name": "stdout",
     "output_type": "stream",
     "text": [
      "2000\n",
      "[452, 607, 763, 784, 860, 1027, 1030, 1033, 1059, 1208, 1340, 1421, 1437, 1475, 1574, 1648]\n",
      "16\n"
     ]
    }
   ],
   "source": [
    "tmp = np.sum(comMatrix, axis = 1)\n",
    "print (len(tmp))\n",
    "comZeros = []\n",
    "for i in range(2000):\n",
    "    if tmp[i] == 0:\n",
    "        comZeros.append(i)\n",
    "print (comZeros)\n",
    "print (len(comZeros))"
   ]
  },
  {
   "cell_type": "code",
   "execution_count": 142,
   "metadata": {
    "collapsed": true
   },
   "outputs": [],
   "source": [
    "from sklearn.metrics.pairwise import pairwise_distances\n",
    "distanceM = pairwise_distances(vecMatrix, comMatrix, metric = 'euclidean')"
   ]
  },
  {
   "cell_type": "code",
   "execution_count": 143,
   "metadata": {},
   "outputs": [],
   "source": [
    "idxtop20 = np.argsort(distanceM, axis = 1)[:,:20]"
   ]
  },
  {
   "cell_type": "code",
   "execution_count": 144,
   "metadata": {},
   "outputs": [
    {
     "name": "stdout",
     "output_type": "stream",
     "text": [
      "(2000, 20)\n"
     ]
    }
   ],
   "source": [
    "print (idxtop20.shape)"
   ]
  },
  {
   "cell_type": "code",
   "execution_count": 145,
   "metadata": {},
   "outputs": [],
   "source": [
    "N = 2000\n",
    "K = 20\n",
    "head = []\n",
    "content = []\n",
    "for i in range(N):\n",
    "    head.append(str(i)+\".txt\")\n",
    "    tmp = \"\"\n",
    "    for j in range(K):\n",
    "        tmp = tmp + str(idxtop20[i, j])+\".jpg \"\n",
    "    tmp.strip(\" \")\n",
    "    content.append(tmp)"
   ]
  },
  {
   "cell_type": "code",
   "execution_count": 146,
   "metadata": {},
   "outputs": [
    {
     "name": "stdout",
     "output_type": "stream",
     "text": [
      "2000\n"
     ]
    }
   ],
   "source": [
    "print (len(content))"
   ]
  },
  {
   "cell_type": "code",
   "execution_count": 147,
   "metadata": {},
   "outputs": [],
   "source": [
    "submission = pd.DataFrame({\n",
    "        \"Descritpion_ID\": head,\n",
    "        \"Top_20_Image_IDs\": content\n",
    "    })\n",
    "\n",
    "submission.to_csv('naive.csv', index=False)"
   ]
  },
  {
   "cell_type": "code",
   "execution_count": null,
   "metadata": {
    "collapsed": true
   },
   "outputs": [],
   "source": []
  }
 ],
 "metadata": {
  "kernelspec": {
   "display_name": "Python 3",
   "language": "python",
   "name": "python3"
  },
  "language_info": {
   "codemirror_mode": {
    "name": "ipython",
    "version": 3
   },
   "file_extension": ".py",
   "mimetype": "text/x-python",
   "name": "python",
   "nbconvert_exporter": "python",
   "pygments_lexer": "ipython3",
   "version": "3.6.1"
  }
 },
 "nbformat": 4,
 "nbformat_minor": 2
}
