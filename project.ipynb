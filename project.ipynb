{
 "cells": [
  {
   "cell_type": "code",
   "execution_count": 24,
   "metadata": {
    "collapsed": true
   },
   "outputs": [],
   "source": [
    "import numpy as np\n",
    "import pandas as pd"
   ]
  },
  {
   "cell_type": "code",
   "execution_count": 43,
   "metadata": {},
   "outputs": [],
   "source": [
    "test_f = pd.read_csv(\"data/features_test/features_resnet1000_test.csv\", header=None)\n",
    "test_f_med = pd.read_csv(\"data/features_test/features_resnet1000intermediate_test.csv\", header=None)\n",
    "train_f = pd.read_csv(\"data/features_train/features_resnet1000_train.csv\", header=None)\n",
    "train_f_med = pd.read_csv(\"data/features_train/features_resnet1000intermediate_train.csv\", header=None)"
   ]
  },
  {
   "cell_type": "code",
   "execution_count": 47,
   "metadata": {},
   "outputs": [
    {
     "name": "stdout",
     "output_type": "stream",
     "text": [
      "(2000, 2049)\n",
      "(2000, 1001)\n"
     ]
    }
   ],
   "source": [
    "print (test_f_med.shape)\n",
    "print (test_f.shape)"
   ]
  },
  {
   "cell_type": "code",
   "execution_count": 45,
   "metadata": {},
   "outputs": [],
   "source": [
    "test_features = test_f.as_matrix()"
   ]
  },
  {
   "cell_type": "code",
   "execution_count": 46,
   "metadata": {},
   "outputs": [
    {
     "name": "stdout",
     "output_type": "stream",
     "text": [
      "2000\n",
      "images_test/152.jpg\n",
      "images_test/1164.jpg\n"
     ]
    }
   ],
   "source": [
    "print (len(test_features[:,0]))\n",
    "print (test_features[0, 0])\n",
    "print (test_features[-1, 0])"
   ]
  },
  {
   "cell_type": "code",
   "execution_count": 48,
   "metadata": {},
   "outputs": [
    {
     "name": "stdout",
     "output_type": "stream",
     "text": [
      "[-0.662131130695343 -1.970782160758972 -4.703564643859863\n",
      " -3.898093700408936 -3.5138118267059326 -3.0668854713439937\n",
      " -2.585243225097656 -3.01051664352417 -4.389159679412842 -4.516051769256592\n",
      " -2.9673452377319336 -2.456197738647461 -2.7540056705474854\n",
      " -1.5845810174942017 -0.6709458827972412 -4.181251525878906\n",
      " -2.4391326904296875 -0.8982189297676086 -1.6342591047286987\n",
      " -0.9986583590507508]\n"
     ]
    }
   ],
   "source": [
    "print (test_features[0, 10:30])"
   ]
  },
  {
   "cell_type": "code",
   "execution_count": null,
   "metadata": {
    "collapsed": true
   },
   "outputs": [],
   "source": []
  }
 ],
 "metadata": {
  "kernelspec": {
   "display_name": "Python 3",
   "language": "python",
   "name": "python3"
  },
  "language_info": {
   "codemirror_mode": {
    "name": "ipython",
    "version": 3
   },
   "file_extension": ".py",
   "mimetype": "text/x-python",
   "name": "python",
   "nbconvert_exporter": "python",
   "pygments_lexer": "ipython3",
   "version": "3.6.1"
  }
 },
 "nbformat": 4,
 "nbformat_minor": 2
}
