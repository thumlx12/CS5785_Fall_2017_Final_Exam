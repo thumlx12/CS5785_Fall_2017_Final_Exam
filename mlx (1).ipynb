{
 "cells": [
  {
   "cell_type": "code",
   "execution_count": 11,
   "metadata": {},
   "outputs": [
    {
     "name": "stderr",
     "output_type": "stream",
     "text": [
      "/Users/mlx/anaconda2/lib/python2.7/site-packages/ipykernel_launcher.py:2: DeprecationWarning: the sets module is deprecated\n",
      "  \n"
     ]
    },
    {
     "name": "stdout",
     "output_type": "stream",
     "text": [
      "{'outdoor': Set(['traffic light', 'fire hydrant', 'stop sign', 'parking meter', 'bench']), 'food': Set(['sandwich', 'apple', 'orange', 'hot dog', 'banana', 'donut', 'carrot', 'cake', 'broccoli', 'pizza']), 'indoor': Set(['hair drier', 'teddy bear', 'clock', 'vase', 'toothbrush', 'book', 'scissors']), 'appliance': Set(['oven', 'toaster', 'sink', 'refrigerator', 'microwave']), 'kitchen': Set(['fork', 'cup', 'bowl', 'spoon', 'bottle', 'wine glass', 'knife']), 'sports': Set(['frisbee', 'kite', 'tennis racket', 'baseball bat', 'skis', 'sports ball', 'skateboard', 'baseball glove', 'snowboard', 'surfboard']), 'person': Set(['person']), 'animal': Set(['sheep', 'horse', 'cow', 'dog', 'bear', 'cat', 'giraffe', 'zebra', 'elephant', 'bird']), 'vehicle': Set(['bicycle', 'car', 'train', 'truck', 'motorcycle', 'bus', 'airplane', 'boat']), 'accessory': Set(['handbag', 'tie', 'backpack', 'umbrella', 'suitcase']), 'electronic': Set(['remote', 'tv', 'laptop', 'keyboard', 'cell phone', 'mouse']), 'furniture': Set(['toilet', 'dining table', 'bed', 'couch', 'potted plant', 'chair'])}\n"
     ]
    }
   ],
   "source": [
    "import os\n",
    "from sets import Set\n",
    "\n",
    "tag_path = 'data/tags_train'\n",
    "\n",
    "categories = {}\n",
    "\n",
    "for filename in os.listdir(tag_path):\n",
    "    if filename.endswith('.txt'):\n",
    "        oneFile = open(os.path.join(tag_path, filename), 'r+')\n",
    "        for oneLine in oneFile:\n",
    "            lineSplit = oneLine.split(':')\n",
    "            if categories.has_key(lineSplit[0]):\n",
    "                categories[lineSplit[0]].add(lineSplit[1][:-1])\n",
    "            else:\n",
    "                categories[lineSplit[0]] = Set()\n",
    "                categories[lineSplit[0]].add(lineSplit[1][:-1])\n",
    "print(categories)"
   ]
  },
  {
   "cell_type": "code",
   "execution_count": null,
   "metadata": {
    "collapsed": true
   },
   "outputs": [],
   "source": []
  },
  {
   "cell_type": "code",
   "execution_count": null,
   "metadata": {
    "collapsed": true
   },
   "outputs": [],
   "source": []
  }
 ],
 "metadata": {
  "kernelspec": {
   "display_name": "Python 2",
   "language": "python",
   "name": "python2"
  },
  "language_info": {
   "codemirror_mode": {
    "name": "ipython",
    "version": 2
   },
   "file_extension": ".py",
   "mimetype": "text/x-python",
   "name": "python",
   "nbconvert_exporter": "python",
   "pygments_lexer": "ipython2",
   "version": "2.7.13"
  }
 },
 "nbformat": 4,
 "nbformat_minor": 2
}
