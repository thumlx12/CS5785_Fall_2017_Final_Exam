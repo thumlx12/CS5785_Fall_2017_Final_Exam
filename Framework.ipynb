{
 "cells": [
  {
   "cell_type": "code",
   "execution_count": 1,
   "metadata": {
    "collapsed": true
   },
   "outputs": [],
   "source": [
    "import numpy as np\n",
    "import pandas as pd"
   ]
  },
  {
   "cell_type": "markdown",
   "metadata": {},
   "source": [
    "# Data Import and Preprocessing"
   ]
  },
  {
   "cell_type": "code",
   "execution_count": 2,
   "metadata": {
    "collapsed": true
   },
   "outputs": [],
   "source": [
    "test_f = pd.read_csv(\"data/features_test/features_resnet1000_test.csv\", header=None)\n",
    "test_f_med = pd.read_csv(\"data/features_test/features_resnet1000intermediate_test.csv\", header=None)\n",
    "train_f = pd.read_csv(\"data/features_train/features_resnet1000_train.csv\", header=None)\n",
    "train_f_med = pd.read_csv(\"data/features_train/features_resnet1000intermediate_train.csv\", header=None)"
   ]
  },
  {
   "cell_type": "code",
   "execution_count": 16,
   "metadata": {
    "collapsed": true
   },
   "outputs": [],
   "source": [
    "train_size = 10000\n",
    "v_len = 1000\n",
    "test_size = 2000"
   ]
  },
  {
   "cell_type": "markdown",
   "metadata": {},
   "source": [
    "## Getting Y_train and Y_test ready"
   ]
  },
  {
   "cell_type": "code",
   "execution_count": 20,
   "metadata": {},
   "outputs": [
    {
     "name": "stdout",
     "output_type": "stream",
     "text": [
      "Y_train has shape: (10000, 1000)\n",
      "Y_test has shape: (2000, 1000)\n"
     ]
    }
   ],
   "source": [
    "Y_train_tmp = train_f.as_matrix()\n",
    "Y_test_tmp = test_f.as_matrix()\n",
    "Y_train = np.zeros((train_size, v_len))\n",
    "Y_test = np.zeros((test_size, v_len))\n",
    "for vector in Y_train_tmp:\n",
    "    img = int(vector[0].split('/')[1].split('.')[0])\n",
    "    Y_train[img] = vector[1:]\n",
    "for vector in Y_test_tmp:\n",
    "    img = int(vector[0].split('/')[1].split('.')[0])\n",
    "    Y_test[img] = vector[1:]\n",
    "print(\"Y_train has shape: \" + str(Y_train.shape))\n",
    "print(\"Y_test has shape: \" + str(Y_test.shape))"
   ]
  },
  {
   "cell_type": "markdown",
   "metadata": {},
   "source": [
    "## Getting Desp_train and Desp_test ready\n",
    "Note: not all txt has 5 lines, some has empty lines."
   ]
  },
  {
   "cell_type": "code",
   "execution_count": 21,
   "metadata": {
    "collapsed": true
   },
   "outputs": [],
   "source": [
    "Desp_train = []\n",
    "Desp_test = []\n",
    "for i in range(train_size):\n",
    "    fname = \"data/descriptions_train/\"+str(i)+\".txt\"\n",
    "    with open(fname, \"r\") as ins:\n",
    "        text = []\n",
    "        for line in ins:\n",
    "            text.append(line)\n",
    "        Desp_train.append(text)\n",
    "for i in range(test_size):\n",
    "    fname = \"data/descriptions_test/\"+str(i)+\".txt\"\n",
    "    with open(fname, \"r\") as ins:\n",
    "        text = []\n",
    "        for line in ins:\n",
    "            text.append(line)\n",
    "        Desp_test.append(text)"
   ]
  },
  {
   "cell_type": "code",
   "execution_count": 23,
   "metadata": {},
   "outputs": [
    {
     "name": "stdout",
     "output_type": "stream",
     "text": [
      "10000\n",
      "['A small bedroom with a desk and computer in it.\\n', 'A bedroom that has a desk, chair, and bed in it.\\n', 'A chair sitting in front of a brown desk.\\n', 'A desk beside a window in a bedroom\\n', 'a bed and a desk and chair by a big window\\n']\n"
     ]
    }
   ],
   "source": [
    "print (len(Desp_train))\n",
    "print (Desp_train[5])"
   ]
  },
  {
   "cell_type": "markdown",
   "metadata": {},
   "source": [
    "## Convert Desp_train, Desp_test to X_train, X_test"
   ]
  },
  {
   "cell_type": "code",
   "execution_count": 31,
   "metadata": {
    "collapsed": true
   },
   "outputs": [],
   "source": [
    "def desp2vec(Desp):\n",
    "# Desp is an array of array of strings\n",
    "# Output a vector of size N*M\n",
    "# N is len(Desp), M is by our design\n",
    "    return np.zeros((len(Desp), 2000))"
   ]
  },
  {
   "cell_type": "code",
   "execution_count": 32,
   "metadata": {},
   "outputs": [],
   "source": [
    "X_train = desp2vec(Desp_train)\n",
    "X_test = desp2vec(Desp_test)"
   ]
  },
  {
   "cell_type": "markdown",
   "metadata": {},
   "source": [
    "# Training with Regression Models\n",
    "Multioutput regression\n",
    "See http://scikit-learn.org/stable/modules/multiclass.html for more regression models"
   ]
  },
  {
   "cell_type": "code",
   "execution_count": 44,
   "metadata": {},
   "outputs": [
    {
     "name": "stdout",
     "output_type": "stream",
     "text": [
      "(2000, 1000)\n"
     ]
    }
   ],
   "source": [
    "from sklearn.tree import DecisionTreeRegressor\n",
    "# Fit regression model\n",
    "tree_1 = DecisionTreeRegressor(max_depth=5)\n",
    "tree_1.fit(X_train, Y_train)\n",
    "print (tree_1.predict(X_test).shape)"
   ]
  },
  {
   "cell_type": "markdown",
   "metadata": {},
   "source": [
    "## KFold Cross-validation"
   ]
  },
  {
   "cell_type": "code",
   "execution_count": 43,
   "metadata": {},
   "outputs": [
    {
     "name": "stdout",
     "output_type": "stream",
     "text": [
      "RT Score: -0.000666\n",
      "RT Score: -0.000737\n",
      "RT Score: -0.000695\n",
      "RT Score: -0.000472\n",
      "RT Score: -0.000511\n"
     ]
    }
   ],
   "source": [
    "from sklearn import cross_validation\n",
    "K = 5\n",
    "for trainKF, testKF in (cross_validation.KFold(train_size, n_folds=K)):\n",
    "    Xr_KF = X_train[trainKF,:]\n",
    "    Yr_KF = Y_train[trainKF,:]\n",
    "    Xt_KF = X_train[testKF,:]\n",
    "    Yt_KF = Y_train[testKF,:]\n",
    "    tree = DecisionTreeRegressor(max_depth=5)\n",
    "    tree.fit(Xr_KF, Yr_KF)\n",
    "    print('RT Score: %f' % tree.score(Xt_KF, Yt_KF))"
   ]
  },
  {
   "cell_type": "markdown",
   "metadata": {},
   "source": [
    "# Predict the result"
   ]
  },
  {
   "cell_type": "code",
   "execution_count": 45,
   "metadata": {
    "collapsed": true
   },
   "outputs": [],
   "source": [
    "from sklearn.metrics.pairwise import pairwise_distances\n",
    "def rank20(myRegressor, X_test, Y_test, metri = 'euclidean'):\n",
    "# X_test 2000 * m\n",
    "# Y_test 2000 * 1000\n",
    "# Y_predict 2000 * 1000\n",
    "# return Y_rank 2000 * 20\n",
    "    Y_predict = myRegressor.predict(X_test)\n",
    "    distanceM = pairwise_distances(Y_predict, Y_test, metric = metri)\n",
    "    return np.argsort(distanceM, axis = 1)[:,:20]"
   ]
  },
  {
   "cell_type": "code",
   "execution_count": 55,
   "metadata": {},
   "outputs": [],
   "source": [
    "def render(Y_rank, outName = 'result.csv'):\n",
    "# Y_rank 2000 * 20\n",
    "    head = []\n",
    "    content = []\n",
    "    for i in range(test_size):\n",
    "        head.append(str(i)+\".txt\")\n",
    "        tmp = \"\"\n",
    "        for j in range(20):\n",
    "            tmp = tmp + str(Y_rank[i, j])+\".jpg\"\n",
    "            if j < 19:\n",
    "                tmp = tmp + \" \"\n",
    "        content.append(tmp)\n",
    "    submission = pd.DataFrame({\n",
    "            \"Descritpion_ID\": head,\n",
    "            \"Top_20_Image_IDs\": content\n",
    "        })\n",
    "    submission.to_csv(outName, index=False)"
   ]
  },
  {
   "cell_type": "code",
   "execution_count": 56,
   "metadata": {},
   "outputs": [],
   "source": [
    "Y_rank = rank20(tree, X_test, Y_test)\n",
    "render(Y_rank, 'frame.csv')"
   ]
  }
 ],
 "metadata": {
  "kernelspec": {
   "display_name": "Python 3",
   "language": "python",
   "name": "python3"
  },
  "language_info": {
   "codemirror_mode": {
    "name": "ipython",
    "version": 3
   },
   "file_extension": ".py",
   "mimetype": "text/x-python",
   "name": "python",
   "nbconvert_exporter": "python",
   "pygments_lexer": "ipython3",
   "version": "3.6.1"
  }
 },
 "nbformat": 4,
 "nbformat_minor": 2
}
